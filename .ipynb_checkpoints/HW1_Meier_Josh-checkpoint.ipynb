{
 "cells": [
  {
   "cell_type": "markdown",
   "metadata": {},
   "source": [
    "<a id='top'></a>\n",
    "\n",
    "# CSCI3022 S21\n",
    "# Homework 1: Measures of Centrality and Dispersion\n",
    "***\n",
    "\n",
    "**Name**: Josh Meier\n",
    "\n",
    "***\n",
    "\n",
    "This assignment is due on Canvas by **MIDNIGHT on Monday, February 1**. Your solutions to theoretical questions should be done in Markdown directly below the associated question.  Your solutions to computational questions should include any specified Python code and results as well as written commentary on your conclusions.  Remember that you are encouraged to discuss the problems with your classmates, but **you must write all code and solutions on your own**.\n",
    "\n",
    "**NOTES**: \n",
    "\n",
    "- Any relevant data sets should be available on Canvas. To make life easier on the graders if they need to run your code, do not change the relative path names here. Instead, move the files around on your computer.\n",
    "- If you're not familiar with typesetting math directly into Markdown then by all means, do your work on paper first and then typeset it later.  Here is a [reference guide](https://math.meta.stackexchange.com/questions/5020/mathjax-basic-tutorial-and-quick-reference) linked on Canvas on writing math in Markdown. **All** of your written commentary, justifications and mathematical work should be in Markdown.  I also recommend the [wikibook](https://en.wikibooks.org/wiki/LaTeX) for LaTex.\n",
    "- Because you can technically evaluate notebook cells is a non-linear order, it's a good idea to do **Kernel $\\rightarrow$ Restart & Run All** as a check before submitting your solutions.  That way if we need to run your code you will know that it will work as expected. \n",
    "- It is **bad form** to make your reader interpret numerical output from your code.  If a question asks you to compute some value from the data you should show your code output **AND** write a summary of the results in Markdown directly below your code. \n",
    "- 95 points of this assignment are in problems.  The remaining 5 are for neatness, style, and overall exposition of both code and text.\n",
    "- This probably goes without saying, but... For any question that asks you to calculate something, you **must show all work and justify your answers to receive credit**. Sparse or nonexistent work will receive sparse or nonexistent credit. \n",
    "\n",
    "---\n",
    "**Shortcuts:**  [Problem 1](#p1) | [Problem 2](#p2) | [Problem 3](#p3) |\n",
    "---"
   ]
  },
  {
   "cell_type": "code",
   "execution_count": 41,
   "metadata": {},
   "outputs": [],
   "source": [
    "import pandas as pd\n",
    "from pandas import DataFrame\n",
    "import numpy as np\n",
    "import matplotlib.pylab as plt\n",
    "%matplotlib inline"
   ]
  },
  {
   "cell_type": "markdown",
   "metadata": {},
   "source": [
    "[Back to top](#top)\n",
    "\n",
    "<br>\n",
    "\n",
    "<a/ id='p1'></a>\n",
    "\n",
    "### (15 points) Problem 1: Theory and Computation (Means and Medians)\n",
    "***\n",
    "\n",
    "A method to investigate the sensitivity of the sample mean and sample median to extreme outliers and changes in the dataset is to replace one or more elements in a given dataset by a number $y$ and investigate the effect when $y$ changes. To illustrate this, consider the following dataset:\n",
    " \n",
    "$$  12.2 \\quad -5.0 \\quad 1.0 \\quad 3.8 \\quad -4.1 \\quad 5.9 \\quad 1.9 \\quad 9.0 \\quad y$$\n",
    "\n",
    "\n"
   ]
  },
  {
   "cell_type": "markdown",
   "metadata": {},
   "source": [
    "**Part A:** Compute the sample mean and sample median for $y=3.5$. Then compute both quantities again for $y=6$."
   ]
  },
  {
   "cell_type": "code",
   "execution_count": 73,
   "metadata": {},
   "outputs": [
    {
     "name": "stdout",
     "output_type": "stream",
     "text": [
      "3.1333333333333333\n",
      "3.5\n",
      "3.411111111111111\n",
      "3.8\n"
     ]
    }
   ],
   "source": [
    "nums = [-5.0, -4.1, 1.0, 1.9, 3.5, 3.8, 5.9, 9.0, 12.2]\n",
    "nums6 = [-5.0, -4.1, 1.0, 1.9, 3.8, 5.9, 6, 9.0, 12.2]\n",
    "median1 = nums[int(len(nums)/2)]\n",
    "median2 = nums6[int(len(nums)/2)]\n",
    "mean1 = (sum(nums))/len(nums)\n",
    "mean2 = (sum(nums6))/len(nums6)\n",
    "print(mean1)\n",
    "print(median1)\n",
    "print(mean2)\n",
    "print(median2)\n",
    "\n",
    "def median(arr):\n",
    "    return arr[int(len(arr)/2)]\n",
    "    \n",
    "def mean(arr):\n",
    "    return (sum(arr))/len(arr)"
   ]
  },
  {
   "cell_type": "markdown",
   "metadata": {},
   "source": [
    "**Part B:** Is there a value for $y$ that would make the mean of the data equal to 6? If so, calculate the value of $y$ that makes the mean equal to 6. If not, clearly explain why not.\n",
    "    \n",
    "Is there a value for $y$ that would make the median of the data equal to 6? If so, calculate the values of $y$ that makes the median equal to 6. If not, clearly explain why not."
   ]
  },
  {
   "cell_type": "markdown",
   "metadata": {},
   "source": [
    "24.7 is the value of nums with a blank y so the formula for what y for 6 mean is $$6=(24.7+x)/9$$ so if y is 29.3 the mean should be 6 for the list.\n",
    "\n",
    "For the median to be 6 you could not do it with adding a single number due to the fact the list is of odd length meaning there is a exact center and with the set of number there is no one number you can add to change it so the center number increases to 6."
   ]
  },
  {
   "cell_type": "markdown",
   "metadata": {},
   "source": [
    "**Part C**: Compute the sample variance and the sample standard deviation for the original dataset given in part A, with $y=6$."
   ]
  },
  {
   "cell_type": "code",
   "execution_count": 74,
   "metadata": {},
   "outputs": [
    {
     "name": "stdout",
     "output_type": "stream",
     "text": [
      "32.09861111111111\n",
      "5.665563618132896\n"
     ]
    }
   ],
   "source": [
    "df = DataFrame (nums6,columns=['nums'])\n",
    "print(df.var()[0])\n",
    "print(df.std()[0])\n"
   ]
  },
  {
   "cell_type": "markdown",
   "metadata": {},
   "source": [
    "**Part D**: Compute both the sample mean and median for the following cases: \n",
    "- $y=9$ \n",
    "- $y=50$ \n",
    "- $y=4.36$ \n",
    "- $y \\to \\infty$ \n",
    "- $y \\to -\\infty$"
   ]
  },
  {
   "cell_type": "code",
   "execution_count": 80,
   "metadata": {},
   "outputs": [
    {
     "name": "stdout",
     "output_type": "stream",
     "text": [
      "y=9 mean: 3.744444444444445\n",
      "y=9 median: 3.8\n",
      "y=50 mean: 8.3\n",
      "y=50 median: 3.8\n",
      "y=4.36 mean: 3.2288888888888887\n",
      "y=4.36 median: 3.8\n",
      "y=pos inf mean: inf\n",
      "y=pos inf median: 3.8\n",
      "y=neg inf mean: -inf\n",
      "y=neg inf median: 1.9\n"
     ]
    }
   ],
   "source": [
    "nums9 = [-5.0, -4.1, 1.0, 1.9, 3.8, 5.9, 9.0, 9.0, 12.2]\n",
    "nums50 = [-5.0, -4.1, 1.0, 1.9, 3.8, 5.9, 9.0, 12.2, 50]\n",
    "nums436 = [-5.0, -4.1, 1.0, 1.9, 3.8, 4.36, 5.9, 9.0, 12.2]\n",
    "numsInf = [-5.0, -4.1, 1.0, 1.9, 3.8, 5.9, 9.0, 12.2 ,float('inf') ]\n",
    "numsNegInf = [float('-inf') , -5.0, -4.1, 1.0, 1.9, 3.8, 5.9, 9.0, 12.2]\n",
    "print(\"y=9 mean:\", mean(nums9))\n",
    "print(\"y=9 median:\", median(nums9))\n",
    "print(\"y=50 mean:\", mean(nums50))\n",
    "print(\"y=50 median:\", median(nums50))\n",
    "print(\"y=4.36 mean:\", mean(nums436))\n",
    "print(\"y=4.36 median:\", median(nums436))\n",
    "print(\"y=pos inf mean:\", mean(numsInf))\n",
    "print(\"y=pos inf median:\", median(numsInf))\n",
    "print(\"y=neg inf mean:\", mean(numsNegInf))\n",
    "print(\"y=neg inf median:\", median(numsNegInf))"
   ]
  },
  {
   "cell_type": "markdown",
   "metadata": {},
   "source": [
    "**Part E**: Think about the previous parts, above, and describe in words or mathematical notation the answers to the following two questions:\n",
    "\n",
    "- By varying $y$, what is the set of all the possible values that the sample mean could take on?\n",
    "- By varying $y$, what is the set of all the possible values that the sample median could take on? Specifically, for what sets of $y$ values does the median take on its different possible values?"
   ]
  },
  {
   "cell_type": "markdown",
   "metadata": {},
   "source": [
    "the mean could range anywahere from negative infinity to positive infinity since mean is based on the sum. \n",
    "The median could only vary between 3.8 if the added y is greater than 3.8 and 1.9 if the value is less than 1.9 or anywhere inbetween 1.9 to 3.8 since that would then lie in the middle."
   ]
  },
  {
   "cell_type": "markdown",
   "metadata": {},
   "source": [
    "**Part F**: Describe in words or mathematical notation, what happens to the sample standard deviation when $y$ is varied in the following ways: \n",
    " \n",
    "- $y \\to \\infty$ \n",
    "- $y \\to \\bar{x}$"
   ]
  },
  {
   "cell_type": "markdown",
   "metadata": {},
   "source": [
    "if y becomes infinity then the standard deviation will increase to infinity with it because standard deviation has the sum of all values\n",
    "\n",
    "If y is equal to the sample mean for a random variable the standard deviation could end up anywhere between -inf and positive inf due to the summation in standard deviation."
   ]
  },
  {
   "cell_type": "markdown",
   "metadata": {},
   "source": [
    "[Back to top](#top)\n",
    "<a/ id='p2'></a>\n",
    "\n",
    "## (15 pts) Problem 2: Theory and Computation (Scaling)\n",
    "***\n",
    "Consider the following 3 data sets:\n",
    "\n",
    "`A=[0,1,2,3,4,5,6,7,8,9,10,11,12]`\n",
    "\n",
    "`B=[0,0,0,12,7,18,47,25,0,13,0,35]`\n",
    "\n",
    "`C` is the random data set generated by using `np.random.exponential(scale=43, size=1000)`\n",
    "\n",
    "For each data set, perform the following computations in parts A, B, and C:\n",
    "\n",
    "**Part A:** Compute and print the mean and standard deviation of the data set."
   ]
  },
  {
   "cell_type": "code",
   "execution_count": 92,
   "metadata": {},
   "outputs": [
    {
     "name": "stdout",
     "output_type": "stream",
     "text": [
      "set A mean: 6.0\n",
      "set A stdd: 3.8944404818493075\n",
      "set B mean: 13.083333333333334\n",
      "set B stdd: 15.64061341120571\n",
      "set C mean: 43.306912762906094\n",
      "set C stdd: 42.22483354399627\n"
     ]
    }
   ],
   "source": [
    "A=[0,1,2,3,4,5,6,7,8,9,10,11,12]\n",
    "\n",
    "B=[0,0,0,12,7,18,47,25,0,13,0,35]\n",
    "\n",
    "C = np.random.exponential(scale=43, size=1000)\n",
    "\n",
    "dfA = DataFrame (A,columns=['nums'])\n",
    "\n",
    "dfB = DataFrame (B,columns=['nums'])\n",
    "\n",
    "dfC = DataFrame (C,columns=['nums'])\n",
    "\n",
    "originalSTDA = dfA.std()[0]\n",
    "originalSTDB = dfB.std()[0]\n",
    "originalSTDC = dfC.std()[0]\n",
    "\n",
    "\n",
    "print(\"set A mean:\", dfA.mean()[0])\n",
    "print(\"set A stdd:\", dfA.std()[0])\n",
    "print(\"set B mean:\", dfB.mean()[0])\n",
    "print(\"set B stdd:\", dfB.std()[0])\n",
    "print(\"set C mean:\", dfC.mean()[0])\n",
    "print(\"set C stdd:\", dfC.std()[0])"
   ]
  },
  {
   "cell_type": "markdown",
   "metadata": {},
   "source": [
    "**Part B:** Compute and print  the mean and standard deviation of the new data set formed by subtracting the original mean from each observation."
   ]
  },
  {
   "cell_type": "code",
   "execution_count": 91,
   "metadata": {},
   "outputs": [
    {
     "name": "stdout",
     "output_type": "stream",
     "text": [
      "set A mean: 0.0\n",
      "set A stdd: 3.8944404818493075\n",
      "set B mean: -9.473903143468002e-15\n",
      "set B stdd: 15.64061341120571\n",
      "set C mean: -2.2527046894538217e-13\n",
      "set C stdd: 42.890029440428094\n"
     ]
    }
   ],
   "source": [
    "dfA = dfA.subtract(dfA.mean()[0])\n",
    "dfB = dfB.subtract(dfB.mean()[0])\n",
    "dfC = dfC.subtract(dfC.mean()[0])\n",
    "\n",
    "print(\"set A mean:\", dfA.mean()[0])\n",
    "print(\"set A stdd:\", dfA.std()[0])\n",
    "print(\"set B mean:\", dfB.mean()[0])\n",
    "print(\"set B stdd:\", dfB.std()[0])\n",
    "print(\"set C mean:\", dfC.mean()[0])\n",
    "print(\"set C stdd:\", dfC.std()[0])"
   ]
  },
  {
   "cell_type": "markdown",
   "metadata": {},
   "source": [
    "**Part C:** Compute and print  the mean and standard deviation of the new data set formed by subtracting the original mean from each observation and then dividing by the original standard deviation."
   ]
  },
  {
   "cell_type": "code",
   "execution_count": 93,
   "metadata": {},
   "outputs": [
    {
     "name": "stdout",
     "output_type": "stream",
     "text": [
      "set A mean: 1.5406577730392867\n",
      "set A stdd: 1.0\n",
      "set B mean: 0.836497456292845\n",
      "set B stdd: 1.0\n",
      "set C mean: 1.0256266070956181\n",
      "set C stdd: 0.9999999999999986\n"
     ]
    }
   ],
   "source": [
    "dfA = dfA.divide(originalSTDA)\n",
    "dfB = dfB.divide(originalSTDB)\n",
    "dfC = dfC.divide(originalSTDC)\n",
    "\n",
    "print(\"set A mean:\", dfA.mean()[0])\n",
    "print(\"set A stdd:\", dfA.std()[0])\n",
    "print(\"set B mean:\", dfB.mean()[0])\n",
    "print(\"set B stdd:\", dfB.std()[0])\n",
    "print(\"set C mean:\", dfC.mean()[0])\n",
    "print(\"set C stdd:\", dfC.std()[0])"
   ]
  },
  {
   "cell_type": "markdown",
   "metadata": {},
   "source": [
    "**Part D:** Why might this result matter?"
   ]
  },
  {
   "cell_type": "markdown",
   "metadata": {},
   "source": [
    "To potentially see if the data was scewed or bias in any way"
   ]
  },
  {
   "cell_type": "markdown",
   "metadata": {},
   "source": [
    "**Part E:** Looking at each of the 3 data sets, come up with a real-world context where those spectrum of numbers might make for reasonable observations."
   ]
  },
  {
   "cell_type": "markdown",
   "metadata": {},
   "source": [
    "for A it could be the count of pencils someone had on them, B could be for amount of video games owned by a person, and C could be the simple population growth of a animal"
   ]
  },
  {
   "cell_type": "markdown",
   "metadata": {},
   "source": [
    "**Part F:** Let's prove a generalization of the result you likely observed in part B.  What happens if you take data set and \"recenter\" it by adding or subtracting the same number $c$ to each and every observation?\n",
    "\n",
    "In other words, show that the mean of the data set $Y$ given by $Y_i=X_i+c$ is $\\bar{Y}=\\bar{X}+c$.\n",
    "\n",
    "(**Hint**: start with the definition of the mean: $$\\bar{Y}=\\frac{\\sum_{i=1}^n Y_i}{n},$$ then work with the right hand side!)"
   ]
  },
  {
   "cell_type": "markdown",
   "metadata": {},
   "source": [
    "starting with adding c to every element we get $$\\bar{Y}=\\frac{\\sum_{i=1}^n Y_i+c}{n},$$ with this we see every number has increased by c therefore the sum has increased by nc where n is the amount of elements then whenm the sum is divided by n we will just see the incease is by c and therefore the mean increased by c."
   ]
  },
  {
   "cell_type": "markdown",
   "metadata": {},
   "source": [
    "[Back to top](#top)\n",
    "<a/ id='p3'></a>\n",
    "\n",
    "## (15 pts) Problem 3: Computation (Streaming Means)\n",
    "***\n",
    "\n",
    "Data science is often divided into two categories: questions of *what* the best value might be to repreesnt a data problem, and questions of *how* to compute that data value.  Question 1 - and prior lectures - should tell you that computing the mean is valuable!  But *how* do we compute the mean?\n",
    "\n",
    "Let $x_1, x_2, \\ldots, x_n$ be $n$ observations of a variable of interest.  Recall that the sample mean $\\bar{x}_n$ and sample variance $s^2_n$ are given by \n",
    "<a id='eq1'></a>\n",
    "$$\n",
    "\\bar{x}_n = \\frac{1}{n}\\sum_{k=1}^n x_k \\quad \\textrm{and} \\quad s^2_n = \\frac{1}{n-1}\\sum_{k=1}^n \\left( x_k - \\bar{x}_n\\right)^2 \\qquad \\tag{Equation 1}\n",
    "$$"
   ]
  },
  {
   "cell_type": "markdown",
   "metadata": {},
   "source": [
    "**Part A**:\n",
    "\n",
    "How many computations - floating point operations: addition, subtraction, multiplication, division each count as 1 operation - are required to compute the mean of the data set with $n$ observations?\n"
   ]
  },
  {
   "cell_type": "markdown",
   "metadata": {},
   "source": [
    "n, n-1 for each summation, and 1 for the division."
   ]
  },
  {
   "cell_type": "markdown",
   "metadata": {},
   "source": [
    "**Part B**:\n",
    "\n",
    "Now suppose our data is *streaming*- we slowly add observations one at a time, instead of seeing the entire data set at once.  We are still interested in the mean, so if we stream the data set `[4,6,0,10, ...]`, we first compute the mean of the the first data point `[4]`, then we recompute the mean of the first two points `[4,6]`, then we recompute the mean of three `[4,6,0]`, and so forth.\n",
    "\n",
    "Suppose we recompute the mean from scratch after each and every one of our $n$ observations are one-by-one added to our data set.  How many floating point operations are spent computing (and re-computing) the mean of the data set?"
   ]
  },
  {
   "cell_type": "markdown",
   "metadata": {},
   "source": [
    "n! because working backwards to get to n you would do n,n-1,n-2,n-3 which follows a factorial pattern."
   ]
  },
  {
   "cell_type": "markdown",
   "metadata": {},
   "source": [
    "We should be convinced that streaming a mean costs a lot more computer time than just computing once!\n",
    "\n",
    "In this problem we explore a smarter method for such an _online_ computation of the mean.  \n",
    "\n",
    "**Result**: The following relation holds between the mean of the first $n-1$ observations and the mean of all $n$ observations: \n",
    "\n",
    "$$\n",
    "\\bar{x}_n = \\bar{x}_{n-1} + \\frac{x_n - \\bar{x}_{n-1}}{n}\n",
    "$$\n",
    "\n",
    "\n",
    "A proof of this result is in the [Appendix](#Appendix) after this problem, and requires some careful manipulations of the sum $\\bar{x}_n$.  Your task will be to computationally verify and utilize this result.\n",
    "\n",
    "**Part C**: Write a function `my_sample_mean` that takes as its input a numpy array and returns the mean of that numpy array using the formulas from class ([Equation 1](#eq1)). Write another function `my_sample_var` that takes as its input a numpy array and returns the variance of that numpy array, again using the formulas from class ([Equation 1](#eq1)). You may **not** use any built-in sample mean or variance functions."
   ]
  },
  {
   "cell_type": "code",
   "execution_count": 26,
   "metadata": {},
   "outputs": [],
   "source": [
    "def my_sample_mean(arr):\n",
    "    return (sum(arr))/len(arr)\n",
    "\n",
    "def my_sample_var(arr):\n",
    "    newArr = []\n",
    "    for x in arr:\n",
    "        newArr.append(x-my_sample_mean(arr))\n",
    "    return (sum(arr))/(len(arr)-1)"
   ]
  },
  {
   "cell_type": "markdown",
   "metadata": {},
   "source": [
    "**Part D**: Use your functions from Part C to compute the sample mean and sample variance of the following array, which contains the minutes late that the BuffBus is running on Friday afternoon.\n",
    "\n",
    "`bus = [312, 4, 10, 0, 22, 39, 81, 19, 8, 60, 80, 42]`"
   ]
  },
  {
   "cell_type": "code",
   "execution_count": 27,
   "metadata": {},
   "outputs": [
    {
     "name": "stdout",
     "output_type": "stream",
     "text": [
      "56.416666666666664\n",
      "61.54545454545455\n"
     ]
    }
   ],
   "source": [
    "bus = [312, 4, 10, 0, 22, 39, 81, 19, 8, 60, 80, 42]\n",
    "print(my_sample_mean(bus))\n",
    "print(my_sample_var(bus))"
   ]
  },
  {
   "cell_type": "markdown",
   "metadata": {},
   "source": [
    "**Part E**: Implement a third function called `update_mean` that implements the formula discussed after part B. Note that this function will need to take as its input three things: $x_n$, $\\bar{x}_{n-1}$ and $n$, and returns $\\bar{x}_{n}$. A function header and return statement are provided for you. This function may be auto-graded, so please do not change the given header API - the order of inputs matters! If you change it, you might lose points.\n",
    "\n",
    "Use this function to compute the values that you get from taking the mean of the first buff buses' lateness, the first two buff buses' lateness, the first three buff buses' lateness, and so on up to all of the `bus` data points from **Part D**. Store your streaming bus means in a numpy array called `buffbus_bad_means`.  Report all 12 estimates in `buffbus_bad_means`."
   ]
  },
  {
   "cell_type": "code",
   "execution_count": 38,
   "metadata": {},
   "outputs": [
    {
     "name": "stdout",
     "output_type": "stream",
     "text": [
      "312.0\n",
      "158.0\n",
      "108.66666666666666\n",
      "81.5\n",
      "69.6\n",
      "64.5\n",
      "66.85714285714286\n",
      "60.875\n",
      "55.0\n",
      "55.5\n",
      "57.72727272727273\n",
      "56.416666666666664\n"
     ]
    }
   ],
   "source": [
    "# Given API:\n",
    "def update_mean(prev_mean, xn, n):\n",
    "    top = (xn-prev_mean)\n",
    "    now_mean = (prev_mean+(top/n))\n",
    "    return now_mean\n",
    "\n",
    "#Your code here (to loop over the full data)\n",
    "newList = []\n",
    "mean = 0\n",
    "for x in bus:\n",
    "    newList.append(x)\n",
    "    mean = update_mean(mean,x,len(newList))\n",
    "    print(mean)"
   ]
  },
  {
   "cell_type": "markdown",
   "metadata": {},
   "source": [
    "<a id='Appendix'></a>\n",
    "\n",
    "## Appendix \n",
    "\n",
    "*Goal*: Prove that \n",
    "$$\n",
    "\\bar{x}_n = \\bar{x}_{n-1} + \\frac{x_n - \\bar{x}_{n-1}}{n}\n",
    "$$\n",
    "\n",
    "Note that you can get an expression for $\\bar{x}_{n-1}$ by simply replacing $n$ in Equation 1 above with $n-1$.\n",
    "\n",
    "We'll start with $\\bar{x}_n$ and massage it until we get the righthand side of the formula\n",
    "\n",
    "\\begin{eqnarray}\n",
    "\\nonumber \\bar{x}_n &=& \\frac{1}{n} \\sum_{k=1}^n x_k \\\\\n",
    "&=& \\frac{1}{n} \\sum_{k=1}^{n-1} x_k + \\frac{1}{n}x_n \\\\\n",
    "&=& \\frac{n-1}{n-1}\\frac{1}{n} \\sum_{k=1}^{n-1} x_k + \\frac{1}{n}x_n \\\\\n",
    "&=& \\frac{n-1}{n} \\left(\\frac{1}{n-1} \\sum_{k=1}^{n-1} x_k\\right) + \\frac{1}{n}x_n \\\\\n",
    "&=& \\frac{n-1}{n} \\bar{x}_{n-1} + \\frac{1}{n}x_n \\\\\n",
    "&=& \\frac{n}{n}\\bar{x}_{n-1} - \\frac{1}{n}\\bar{x}_{n-1} + \\frac{1}{n}x_n \\\\\n",
    "&=&  \\bar{x}_{n-1} + \\frac{x_n - \\bar{x}_{n-1}}{n} \\quad \\checkmark\n",
    "\\end{eqnarray}\n",
    "\n"
   ]
  },
  {
   "cell_type": "code",
   "execution_count": null,
   "metadata": {},
   "outputs": [],
   "source": []
  }
 ],
 "metadata": {
  "kernelspec": {
   "display_name": "Python 3",
   "language": "python",
   "name": "python3"
  },
  "language_info": {
   "codemirror_mode": {
    "name": "ipython",
    "version": 3
   },
   "file_extension": ".py",
   "mimetype": "text/x-python",
   "name": "python",
   "nbconvert_exporter": "python",
   "pygments_lexer": "ipython3",
   "version": "3.8.3"
  }
 },
 "nbformat": 4,
 "nbformat_minor": 2
}
