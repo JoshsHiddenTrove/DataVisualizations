{
 "cells": [
  {
   "cell_type": "markdown",
   "metadata": {},
   "source": [
    "<a id='top'></a>\n",
    "\n",
    "# CSCI3022 S21\n",
    "# Homework 2: Data Wrangling and Visualizations\n",
    "***\n",
    "\n",
    "**Name**: ________________________________________________________________________\n",
    "\n",
    "***\n",
    "\n",
    "This assignment is due on Canvas by **MIDNIGHT on Monday, February 8**. Your solutions to theoretical questions should be done in Markdown directly below the associated question.  Your solutions to computational questions should include any specified Python code and results as well as written commentary on your conclusions.  Remember that you are encouraged to discuss the problems with your classmates, but **you must write all code and solutions on your own**.\n",
    "\n",
    "**NOTES**: \n",
    "\n",
    "- Any relevant data sets should be available on Canvas. To make life easier on the graders if they need to run your code, do not change the relative path names here. Instead, move the files around on your computer.\n",
    "- If you're not familiar with typesetting math directly into Markdown then by all means, do your work on paper first and then typeset it later.  Here is a [reference guide](https://math.meta.stackexchange.com/questions/5020/mathjax-basic-tutorial-and-quick-reference) linked on Canvas on writing math in Markdown. **All** of your written commentary, justifications and mathematical work should be in Markdown.  I also recommend the [wikibook](https://en.wikibooks.org/wiki/LaTeX) for LaTex.\n",
    "- Because you can technically evaluate notebook cells is a non-linear order, it's a good idea to do **Kernel $\\rightarrow$ Restart & Run All** as a check before submitting your solutions.  That way if we need to run your code you will know that it will work as expected. \n",
    "- It is **bad form** to make your reader interpret numerical output from your code.  If a question asks you to compute some value from the data you should show your code output **AND** write a summary of the results in Markdown directly below your code. \n",
    "- 95 points of this assignment are in problems.  The remaining 5 are for neatness, style, and overall exposition of both code and text.\n",
    "- This probably goes without saying, but... For any question that asks you to calculate something, you **must show all work and justify your answers to receive credit**. Sparse or nonexistent work will receive sparse or nonexistent credit. \n",
    "\n",
    "---\n",
    "**Shortcuts:**  [Problem 1](#p1) | [Problem 2](#p2) |\n",
    "---"
   ]
  },
  {
   "cell_type": "code",
   "execution_count": 1,
   "metadata": {},
   "outputs": [],
   "source": [
    "import pandas as pd\n",
    "import numpy as np\n",
    "import matplotlib.pylab as plt\n",
    "%matplotlib inline"
   ]
  },
  {
   "cell_type": "markdown",
   "metadata": {},
   "source": [
    "[Back to top](#top)\n",
    "\n",
    "<a id='p1'></a>\n",
    "\n",
    "## (25 pts) Problem 1: Data (Probability and Histograms)\n",
    "*** \n",
    "The sinking of the RMS Titanic was a terrible tragedy that saw the loss of many lives. Even within this tragedy, thanks to the combinations of the records of the White Star Line and the thorough nature of follow-up research after the accident we have some records that can help us try to piece together the course of events on board the ship. Many of the historians and other researchers who have investigated this event have speculated as to what exactly happened.\n",
    "\n",
    "We have the data on survival rates by class, gender, and age, so let's figure out whether there is evidence for some of these scenarios. Access the Titanic data in `titanic_data.csv` and store it in a Pandas DataFrame. The data contains information pertaining to class status (**Pclass**), survival (**Survived**), and gender (**Sex**) of passengers, among other things. Be sure to use the `titanic_data.csv` data set, *not* the `clean_titanic_data` file or `dirty_titanic_data` file from the in-class notebook exercises."
   ]
  },
  {
   "cell_type": "code",
   "execution_count": 2,
   "metadata": {},
   "outputs": [
    {
     "data": {
      "text/html": [
       "<div>\n",
       "<style scoped>\n",
       "    .dataframe tbody tr th:only-of-type {\n",
       "        vertical-align: middle;\n",
       "    }\n",
       "\n",
       "    .dataframe tbody tr th {\n",
       "        vertical-align: top;\n",
       "    }\n",
       "\n",
       "    .dataframe thead th {\n",
       "        text-align: right;\n",
       "    }\n",
       "</style>\n",
       "<table border=\"1\" class=\"dataframe\">\n",
       "  <thead>\n",
       "    <tr style=\"text-align: right;\">\n",
       "      <th></th>\n",
       "      <th>PassengerId</th>\n",
       "      <th>Survived</th>\n",
       "      <th>Pclass</th>\n",
       "      <th>Name</th>\n",
       "      <th>Sex</th>\n",
       "      <th>Age</th>\n",
       "      <th>SibSp</th>\n",
       "      <th>Parch</th>\n",
       "      <th>Ticket</th>\n",
       "      <th>Fare</th>\n",
       "      <th>Cabin</th>\n",
       "      <th>Embarked</th>\n",
       "    </tr>\n",
       "  </thead>\n",
       "  <tbody>\n",
       "    <tr>\n",
       "      <th>0</th>\n",
       "      <td>1</td>\n",
       "      <td>0</td>\n",
       "      <td>3</td>\n",
       "      <td>Braund, Mr. Owen Harris</td>\n",
       "      <td>male</td>\n",
       "      <td>36.0</td>\n",
       "      <td>1</td>\n",
       "      <td>0</td>\n",
       "      <td>A/5 21171</td>\n",
       "      <td>7.2500</td>\n",
       "      <td>NaN</td>\n",
       "      <td>S</td>\n",
       "    </tr>\n",
       "    <tr>\n",
       "      <th>1</th>\n",
       "      <td>2</td>\n",
       "      <td>1</td>\n",
       "      <td>1</td>\n",
       "      <td>Cumings, Mrs. John Bradley (Florence Briggs Th...</td>\n",
       "      <td>female</td>\n",
       "      <td>18.0</td>\n",
       "      <td>1</td>\n",
       "      <td>0</td>\n",
       "      <td>PC 17599</td>\n",
       "      <td>71.2833</td>\n",
       "      <td>C85</td>\n",
       "      <td>C</td>\n",
       "    </tr>\n",
       "    <tr>\n",
       "      <th>2</th>\n",
       "      <td>3</td>\n",
       "      <td>1</td>\n",
       "      <td>3</td>\n",
       "      <td>Heikkinen, Miss. Laina</td>\n",
       "      <td>female</td>\n",
       "      <td>14.0</td>\n",
       "      <td>0</td>\n",
       "      <td>0</td>\n",
       "      <td>STON/O2. 3101282</td>\n",
       "      <td>7.9250</td>\n",
       "      <td>NaN</td>\n",
       "      <td>S</td>\n",
       "    </tr>\n",
       "    <tr>\n",
       "      <th>3</th>\n",
       "      <td>4</td>\n",
       "      <td>1</td>\n",
       "      <td>1</td>\n",
       "      <td>Futrelle, Mrs. Jacques Heath (Lily May Peel)</td>\n",
       "      <td>female</td>\n",
       "      <td>27.0</td>\n",
       "      <td>1</td>\n",
       "      <td>0</td>\n",
       "      <td>113803</td>\n",
       "      <td>53.1000</td>\n",
       "      <td>C123</td>\n",
       "      <td>S</td>\n",
       "    </tr>\n",
       "    <tr>\n",
       "      <th>4</th>\n",
       "      <td>5</td>\n",
       "      <td>0</td>\n",
       "      <td>3</td>\n",
       "      <td>Allen, Mr. William Henry</td>\n",
       "      <td>male</td>\n",
       "      <td>63.0</td>\n",
       "      <td>0</td>\n",
       "      <td>0</td>\n",
       "      <td>373450</td>\n",
       "      <td>8.0500</td>\n",
       "      <td>NaN</td>\n",
       "      <td>S</td>\n",
       "    </tr>\n",
       "  </tbody>\n",
       "</table>\n",
       "</div>"
      ],
      "text/plain": [
       "   PassengerId  Survived  Pclass  \\\n",
       "0            1         0       3   \n",
       "1            2         1       1   \n",
       "2            3         1       3   \n",
       "3            4         1       1   \n",
       "4            5         0       3   \n",
       "\n",
       "                                                Name     Sex   Age  SibSp  \\\n",
       "0                            Braund, Mr. Owen Harris    male  36.0      1   \n",
       "1  Cumings, Mrs. John Bradley (Florence Briggs Th...  female  18.0      1   \n",
       "2                             Heikkinen, Miss. Laina  female  14.0      0   \n",
       "3       Futrelle, Mrs. Jacques Heath (Lily May Peel)  female  27.0      1   \n",
       "4                           Allen, Mr. William Henry    male  63.0      0   \n",
       "\n",
       "   Parch            Ticket     Fare Cabin Embarked  \n",
       "0      0         A/5 21171   7.2500   NaN        S  \n",
       "1      0          PC 17599  71.2833   C85        C  \n",
       "2      0  STON/O2. 3101282   7.9250   NaN        S  \n",
       "3      0            113803  53.1000  C123        S  \n",
       "4      0            373450   8.0500   NaN        S  "
      ]
     },
     "execution_count": 2,
     "metadata": {},
     "output_type": "execute_result"
    }
   ],
   "source": [
    "filepath = '../Data/titanic_data.csv'\n",
    "df = pd.read_csv(filepath)\n",
    "df.head()"
   ]
  },
  {
   "cell_type": "markdown",
   "metadata": {},
   "source": [
    "**Part A**:\n",
    "Based on the overall population of passengers, report the probability of survival.\n",
    "\n",
    "$$P(Survived=1)$$"
   ]
  },
  {
   "cell_type": "code",
   "execution_count": 3,
   "metadata": {},
   "outputs": [
    {
     "name": "stdout",
     "output_type": "stream",
     "text": [
      "0.39281705948372614\n"
     ]
    }
   ],
   "source": [
    "ProbabilityOfSurvived = df['Survived'].sum()/len(df)\n",
    "print(ProbabilityOfSurvived)"
   ]
  },
  {
   "cell_type": "markdown",
   "metadata": {},
   "source": [
    "**Part B**: \n",
    "Some claim that the final hours aboard the RMS Titanic were marked by \"class warfare\" in which the people with first-class tickets took all the good spots on the lifeboats; others claim that the final hours were characterized by male chivalry, in which the men valiantly gave up their positions in the boats and succumbed bravely to the depths of the Atlantic. \n",
    "\n",
    "Consider the two claims: class warfare, and male chivalry. Suppose that class warfare occurred in the final hours aboard the Titanic.  What patterns might you expect to see in the data?  Suppose that male chivalry was widespread during the final hours instead. What patterns might you then expect to see in the data?  Explain both of these hypothesized patterns in words. Are these two hypotheses mutually exclusive or not?"
   ]
  },
  {
   "cell_type": "markdown",
   "metadata": {},
   "source": [
    "If class warfare were to occur I would expect to see a higher amount of people with higher ranking tickets survived, you could say higher percentage of people with higher ranking but because high ranking tickets were given to less people this might be scewed.If chivalry were the final aspect I would expect to see female and age < lets just say 10 to be higher in survial rates then men. both could occur at the same time so theyare not mutually exclusive."
   ]
  },
  {
   "cell_type": "markdown",
   "metadata": {},
   "source": [
    "**Part C**: Use Pandas methods to create a clean data set by removing any rows from the DataFrame that are missing values corresponding to **Survived**, **Pclass**, **Age**, or **Sex**. Store the clean data in a DataFrame called dfTitanic. Be sure to show any exploratory work determining if/where there are rows with missing values. _HINT: There should be 714 rows in your cleaned data set._"
   ]
  },
  {
   "cell_type": "code",
   "execution_count": 4,
   "metadata": {},
   "outputs": [
    {
     "name": "stdout",
     "output_type": "stream",
     "text": [
      "891\n",
      "714\n"
     ]
    }
   ],
   "source": [
    "dfTitanic = df\n",
    "print(len(dfTitanic))\n",
    "# print(df)\n",
    "emptyAge = dfTitanic.query(\"Age == 'NaN'\")\n",
    "# print(emptyAge)\n",
    "cond = dfTitanic['PassengerId'].isin(emptyAge['PassengerId'])\n",
    "dfTitanic.drop(dfTitanic[cond].index, inplace= True)\n",
    "emptySurvived = dfTitanic.query(\"Survived == ''\")\n",
    "# print(emptySurvived)\n",
    "emptySex = dfTitanic.query(\"Sex == ''\")\n",
    "# print(emptySex)\n",
    "emptyPclass = dfTitanic.query(\"Pclass == ''\")\n",
    "# print(emptyPclass)]\n",
    "\n",
    "# all others besides age have no empty values\n",
    "print(len(dfTitanic))"
   ]
  },
  {
   "cell_type": "markdown",
   "metadata": {},
   "source": [
    "**Part D**: Compute the probability of survival according to class, gender, and all combinations of the two variables.  Then, answer the following questions:\n",
    "* **(i)** When reviewing class survival probability, how do the results compare to the base survival probability results from **Part A**?\n",
    "* **(ii)** When reviewing gender survival probability, how do the results compare to the base survival probability results from **Part A**?\n",
    "* **(iii)** Within each passenger class, were men or women more/less/equally likely to survive?\n",
    "* **(iv)**  Did men in first class or women in third class have a higher survival probability?\n"
   ]
  },
  {
   "cell_type": "code",
   "execution_count": 5,
   "metadata": {},
   "outputs": [
    {
     "name": "stdout",
     "output_type": "stream",
     "text": [
      "probability a guy survived:  12.745098039215685 %\n",
      "probability a girl survived:  26.330532212885156 %\n",
      "probability a topclass person survived:  15.126050420168067 %\n",
      "probability a midclass person survived:  9.803921568627452 %\n",
      "probability a lowclass person survived:  14.145658263305322 %\n",
      "probability a highClass male survived:  5.042016806722689\n",
      "probability a midClass male survived:  2.2408963585434174\n",
      "probability a lowClass male survived:  5.46218487394958\n",
      "probability a topClass female survived:  10.084033613445378\n",
      "probability a midClass female survived:  7.563025210084033\n",
      "probability a lowClass female survived:  8.683473389355742\n"
     ]
    }
   ],
   "source": [
    "maleSurvival = dfTitanic.loc[dfTitanic['Sex']=='male', 'Survived'].sum()/len(dfTitanic)*100\n",
    "print(\"probability a guy survived: \", maleSurvival, \"%\")\n",
    "femaleSurvival = dfTitanic.loc[dfTitanic['Sex']=='female', 'Survived'].sum()/len(dfTitanic)*100\n",
    "print(\"probability a girl survived: \", femaleSurvival, \"%\")\n",
    "topClass = dfTitanic.loc[dfTitanic['Pclass']==1, 'Survived'].sum()/len(dfTitanic)*100\n",
    "print(\"probability a topclass person survived: \", topClass, \"%\")\n",
    "midClass = dfTitanic.loc[dfTitanic['Pclass']==2, 'Survived'].sum()/len(dfTitanic)*100\n",
    "print(\"probability a midclass person survived: \", midClass, \"%\")\n",
    "lowClass = dfTitanic.loc[dfTitanic['Pclass']==3, 'Survived'].sum()/len(dfTitanic) *100\n",
    "print(\"probability a lowclass person survived: \", lowClass, \"%\")\n",
    "\n",
    "maleTopSurvival = df.loc[(dfTitanic['Sex']=='male') & (dfTitanic['Pclass']==1) & (dfTitanic['Survived']==1)]\n",
    "print(\"probability a highClass male survived: \" , len(maleTopSurvival)/len(dfTitanic) *100)\n",
    "maleMidSurvival = df.loc[(dfTitanic['Sex']=='male') & (dfTitanic['Pclass']==2) & (dfTitanic['Survived']==1)]\n",
    "print(\"probability a midClass male survived: \" , len(maleMidSurvival)/len(dfTitanic) *100)\n",
    "maleLowSurvival = df.loc[(dfTitanic['Sex']=='male') & (dfTitanic['Pclass']==3) & (dfTitanic['Survived']==1)]\n",
    "print(\"probability a lowClass male survived: \" , len(maleLowSurvival)/len(dfTitanic) *100)\n",
    "\n",
    "femaleTopSurvival = df.loc[(dfTitanic['Sex']=='female') & (dfTitanic['Pclass']==1) & (dfTitanic['Survived']==1)]\n",
    "print(\"probability a topClass female survived: \" , len(femaleTopSurvival)/len(dfTitanic) *100)\n",
    "femaleMidSurvival = df.loc[(dfTitanic['Sex']=='female') & (dfTitanic['Pclass']==2) & (dfTitanic['Survived']==1)]\n",
    "print(\"probability a midClass female survived: \" , len(femaleMidSurvival)/len(dfTitanic) *100)\n",
    "femaleLowSurvival = df.loc[(dfTitanic['Sex']=='female') & (dfTitanic['Pclass']==3) & (dfTitanic['Survived']==1)]\n",
    "print(\"probability a lowClass female survived: \" , len(femaleLowSurvival)/len(dfTitanic) *100)"
   ]
  },
  {
   "cell_type": "markdown",
   "metadata": {},
   "source": [
    "i) Part A says you got about a 39% chance to survive where as here it seems every unlikely with the highest chance being women at 26%. \n",
    "ii) between genders it is much more likely that a woman survived giving support to the idea of the final moments being focused around chivalry.\n",
    "iii)for every single class woman had a higher chance to survive by atleast 3%\n",
    "iV) Woman in third class had a higher chance of surviving then men in top class."
   ]
  },
  {
   "cell_type": "markdown",
   "metadata": {},
   "source": [
    "**Part E**: One might wonder how a passenger's age is related to the likelihood that they would survive the Titanic disaster. In addition to the \"male chivalry\" argument outlined above, you can perhaps imagine an addendum - \"women and children first!\" - as the cry to ring out across the decks. Or you might imagine the opposite - rather than \"class warfare\", it is simply healthy adults fighting to take lifeboat spots for themselves.\n",
    "\n",
    "To answer this question graphically, plot two density histograms on the same set of axes, showing the distribution of the ages of passengers who survived, and the distribution of the ages of passengers who did not. \n",
    "* Use the bin edges $[0,5,10,\\ldots,70,75,80]$ for both histograms.\n",
    "* To better distinguish between our populations, we will represent survivors with `navy` (as they were eventually rescued by ships) and those who passed away with `sandybrown`.\n",
    "* Plot both histograms on a single set of axes (there should be only one panel in the figure you create), but use Matplotlib/Pandas plotting functionality to make the faces of the histogram boxes somewhat transparent, so both histograms are visible.\n",
    "* Include a legend and label your axes.\n",
    "* Comment on the results. Does your figure suggest that some age ranges are more or less likely to have survived the disaster than other ages? Fully explain your reasoning and use your figure to justify your conclusions.\n",
    "* If you noticed some relationship between age and likelihood of survival, what is one possible explanation?"
   ]
  },
  {
   "cell_type": "code",
   "execution_count": 6,
   "metadata": {},
   "outputs": [
    {
     "data": {
      "text/plain": [
       "(0.0, 75.0)"
      ]
     },
     "execution_count": 6,
     "metadata": {},
     "output_type": "execute_result"
    },
    {
     "data": {
      "image/png": "[encoded data removed]",
      "text/plain": [
       "<Figure size 576x576 with 1 Axes>"
      ]
     },
     "metadata": {
      "needs_background": "light"
     },
     "output_type": "display_data"
    }
   ],
   "source": [
    "my_bins = range(0,80,5)\n",
    "# Initialize figure subplots\n",
    "fig, axes = plt.subplots(figsize=(8,8))\n",
    "\n",
    "# --------------------------------------\n",
    "# Plot histogram data\n",
    "# --------------------------------------\n",
    "dfTitanic.loc[dfTitanic[\"Survived\"]==1].hist(column=\"Age\", bins=my_bins, ax=axes, facecolor=\"navy\", edgecolor=\"white\", alpha=0.5)\n",
    "dfTitanic.loc[dfTitanic[\"Survived\"]==0].hist(column=\"Age\", bins=my_bins, ax=axes, facecolor=\"sandybrown\", edgecolor=\"white\", alpha=0.5)\n",
    "\n",
    "                                                      \n",
    "# Add titles and labels \n",
    "axes.set_title(\"Survivors/deaths by age\", fontsize=20)\n",
    "axes.set_xlabel(\"Survivors & deaths per age range\", fontsize=16)\n",
    "axes.set_ylabel(\"Total amount\", fontsize=16)\n",
    "\n",
    "# Make grid lighter and set behind data\n",
    "axes.grid(alpha=0.25)\n",
    "axes.set_axisbelow(True)\n",
    "axes.set_xlim([0,75])\n"
   ]
  },
  {
   "cell_type": "markdown",
   "metadata": {},
   "source": [
    "**Part F:** In Part E, we plotted two *density* histograms, showing the distributions of ages of passengers that survived or did not survive the Titanic disaster. Why would it be misleading for us to have plotted these as *frequency* histograms instead?"
   ]
  },
  {
   "cell_type": "markdown",
   "metadata": {},
   "source": [
    "It would be confusing on what the frequency is in reference too where as the density just shows the raw amount of deaths/survivors."
   ]
  },
  {
   "cell_type": "markdown",
   "metadata": {},
   "source": [
    "**Part G**: Do the data suggest class warfare, male chivalry, age bias, or some combination of these characteristics in the final hours aboard the Titanic?  Justify your conclusions based on the computations done above, or do any other analysis that you like, but be sure to clearly justify your conclusions."
   ]
  },
  {
   "cell_type": "markdown",
   "metadata": {},
   "source": [
    "Without analysizing the data further it is hard to say but chivilary was defiently a aspect that took place. Maybe class warfare did and age bias maybe happened but without knowing the average or median age of the people on board it is hard to say."
   ]
  },
  {
   "cell_type": "markdown",
   "metadata": {},
   "source": [
    "[Back to top](#top)\n",
    "<a/ id='p2'></a>\n",
    "\n",
    "## (20 pts) Problem 2: Data (Box Plots and Outliers)\n",
    "***\n",
    "\n",
    "NOAA's Physical Sciences division (https://www.esrl.noaa.gov/psd) houses an enormous amount of weather data.  Load `BoulderPrecip.csv` from the course page for the last 120 years of monthly precipitation data from Boulder.  Let's take a look!"
   ]
  },
  {
   "cell_type": "code",
   "execution_count": 36,
   "metadata": {},
   "outputs": [
    {
     "data": {
      "text/html": [
       "<div>\n",
       "<style scoped>\n",
       "    .dataframe tbody tr th:only-of-type {\n",
       "        vertical-align: middle;\n",
       "    }\n",
       "\n",
       "    .dataframe tbody tr th {\n",
       "        vertical-align: top;\n",
       "    }\n",
       "\n",
       "    .dataframe thead th {\n",
       "        text-align: right;\n",
       "    }\n",
       "</style>\n",
       "<table border=\"1\" class=\"dataframe\">\n",
       "  <thead>\n",
       "    <tr style=\"text-align: right;\">\n",
       "      <th></th>\n",
       "      <th>Year</th>\n",
       "      <th>JAN</th>\n",
       "      <th>FEB</th>\n",
       "      <th>MAR</th>\n",
       "      <th>APR</th>\n",
       "      <th>MAY</th>\n",
       "      <th>JUN</th>\n",
       "      <th>JUL</th>\n",
       "      <th>AUG</th>\n",
       "      <th>SEP</th>\n",
       "      <th>OCT</th>\n",
       "      <th>NOV</th>\n",
       "      <th>DEC</th>\n",
       "      <th>YEAR TOTAL</th>\n",
       "    </tr>\n",
       "  </thead>\n",
       "  <tbody>\n",
       "    <tr>\n",
       "      <th>117</th>\n",
       "      <td>2017</td>\n",
       "      <td>1.41</td>\n",
       "      <td>0.73</td>\n",
       "      <td>1.45</td>\n",
       "      <td>3.15</td>\n",
       "      <td>6.29</td>\n",
       "      <td>0.45</td>\n",
       "      <td>1.30</td>\n",
       "      <td>1.62</td>\n",
       "      <td>1.92</td>\n",
       "      <td>2.42</td>\n",
       "      <td>0.57</td>\n",
       "      <td>0.68</td>\n",
       "      <td>21.89</td>\n",
       "    </tr>\n",
       "    <tr>\n",
       "      <th>118</th>\n",
       "      <td>2018</td>\n",
       "      <td>0.74</td>\n",
       "      <td>1.04</td>\n",
       "      <td>2.23</td>\n",
       "      <td>1.35</td>\n",
       "      <td>4.76</td>\n",
       "      <td>1.82</td>\n",
       "      <td>1.84</td>\n",
       "      <td>0.24</td>\n",
       "      <td>1.02</td>\n",
       "      <td>2.68</td>\n",
       "      <td>1.19</td>\n",
       "      <td>0.34</td>\n",
       "      <td>19.01</td>\n",
       "    </tr>\n",
       "    <tr>\n",
       "      <th>119</th>\n",
       "      <td>2019</td>\n",
       "      <td>1.57</td>\n",
       "      <td>0.74</td>\n",
       "      <td>2.83</td>\n",
       "      <td>1.87</td>\n",
       "      <td>3.89</td>\n",
       "      <td>2.12</td>\n",
       "      <td>2.21</td>\n",
       "      <td>0.10</td>\n",
       "      <td>0.56</td>\n",
       "      <td>2.42</td>\n",
       "      <td>2.38</td>\n",
       "      <td>0.35</td>\n",
       "      <td>21.04</td>\n",
       "    </tr>\n",
       "    <tr>\n",
       "      <th>120</th>\n",
       "      <td>2020</td>\n",
       "      <td>0.0</td>\n",
       "      <td>2.19</td>\n",
       "      <td>2.88</td>\n",
       "      <td>3.17</td>\n",
       "      <td>2.30</td>\n",
       "      <td>2.10</td>\n",
       "      <td>0.34</td>\n",
       "      <td>0.48</td>\n",
       "      <td>1.56</td>\n",
       "      <td>0.77</td>\n",
       "      <td>0.79</td>\n",
       "      <td>0.52</td>\n",
       "      <td>17.10</td>\n",
       "    </tr>\n",
       "    <tr>\n",
       "      <th>121</th>\n",
       "      <td>2021</td>\n",
       "      <td>0.40</td>\n",
       "      <td>NaN</td>\n",
       "      <td>NaN</td>\n",
       "      <td>NaN</td>\n",
       "      <td>NaN</td>\n",
       "      <td>NaN</td>\n",
       "      <td>NaN</td>\n",
       "      <td>NaN</td>\n",
       "      <td>NaN</td>\n",
       "      <td>NaN</td>\n",
       "      <td>NaN</td>\n",
       "      <td>NaN</td>\n",
       "      <td>0.40</td>\n",
       "    </tr>\n",
       "  </tbody>\n",
       "</table>\n",
       "</div>"
      ],
      "text/plain": [
       "     Year   JAN   FEB   MAR   APR   MAY   JUN   JUL   AUG   SEP   OCT   NOV  \\\n",
       "117  2017  1.41  0.73  1.45  3.15  6.29  0.45  1.30  1.62  1.92  2.42  0.57   \n",
       "118  2018  0.74  1.04  2.23  1.35  4.76  1.82  1.84  0.24  1.02  2.68  1.19   \n",
       "119  2019  1.57  0.74  2.83  1.87  3.89  2.12  2.21  0.10  0.56  2.42  2.38   \n",
       "120  2020   0.0  2.19  2.88  3.17  2.30  2.10  0.34  0.48  1.56  0.77  0.79   \n",
       "121  2021  0.40   NaN   NaN   NaN   NaN   NaN   NaN   NaN   NaN   NaN   NaN   \n",
       "\n",
       "      DEC  YEAR TOTAL  \n",
       "117  0.68       21.89  \n",
       "118  0.34       19.01  \n",
       "119  0.35       21.04  \n",
       "120  0.52       17.10  \n",
       "121   NaN        0.40  "
      ]
     },
     "execution_count": 36,
     "metadata": {},
     "output_type": "execute_result"
    }
   ],
   "source": [
    "dfPrecip = pd.read_csv('../Data/boulder_precip_12021.csv')\n",
    "dfPrecip.tail()\n"
   ]
  },
  {
   "cell_type": "markdown",
   "metadata": {},
   "source": [
    "**Part A:** SCRUBBING!  Our data set is going to be tough to use for a few reasons.\n",
    "\n",
    "1) When the amount of precipitation was nonzero but too small to be recorded, this data set recorded `tr`.  Replace these with zeroes.\n",
    "\n",
    "2) 2021 isn't over yet!  We have one row at the bottom that isn't fully complete and blank values are filling the months that haven't happened yet.  This can wreak havoc on some of our methods!  **Drop** the 2021 data entirely.\n",
    "\n",
    "3) You may have some object typing issues relating to columns that contained both \"Tr\"/\"NA\" and numeric values.  Ensure that Python is treating all of your data as numeric! (see `df.dtypes`)"
   ]
  },
  {
   "cell_type": "code",
   "execution_count": 8,
   "metadata": {},
   "outputs": [],
   "source": [
    "cleaned = dfPrecip.replace(\"Tr\", 0)\n",
    "cleaned = cleaned.replace('\\*','', regex = True)\n",
    "cleaned = cleaned.drop(121)\n",
    "cleaned = cleaned.astype(float)"
   ]
  },
  {
   "cell_type": "markdown",
   "metadata": {},
   "source": [
    "**Part B:** Generate a series of 12 box plots with month as the x axis and precipitation on the y-axis."
   ]
  },
  {
   "cell_type": "code",
   "execution_count": 9,
   "metadata": {},
   "outputs": [
    {
     "data": {
      "image/png": "[encoded data removed]",
      "text/plain": [
       "<Figure size 432x288 with 1 Axes>"
      ]
     },
     "metadata": {
      "needs_background": "light"
     },
     "output_type": "display_data"
    }
   ],
   "source": [
    "boxplot = cleaned.boxplot(column=['JAN', 'FEB', 'MAR','APR','MAY','JUN','JUL','AUG','SEP','OCT','NOV','DEC'])\n"
   ]
  },
  {
   "cell_type": "markdown",
   "metadata": {},
   "source": [
    "\n",
    "**Part C:** Spring is the wet season in Boulder.   But what is Spring?\n",
    "\n",
    "Atmospheric scientists love to group months seasonally, breaking the year into a Winter season including December, January, February; a Spring including March, April, and May; and so forth.\n",
    "\n",
    "The solar year, however, says that Spring runs from near the end of March until near the end of June: let's round at the nearest month and say that it includes the months of April, May and June.\n",
    "\n",
    "Generate a box plot with precipitation on the y-axis and the two possible monthly 'Spring' groupings (March-May versus April-June) as the x-axis."
   ]
  },
  {
   "cell_type": "code",
   "execution_count": 10,
   "metadata": {
    "scrolled": false
   },
   "outputs": [
    {
     "data": {
      "image/png": "[encoded data removed]",
      "text/plain": [
       "<Figure size 432x288 with 1 Axes>"
      ]
     },
     "metadata": {
      "needs_background": "light"
     },
     "output_type": "display_data"
    }
   ],
   "source": [
    "cleaned[\"spring1\"] = cleaned['MAR'] + cleaned['APR'] + cleaned['MAY']\n",
    "cleaned[\"spring2\"] = cleaned['APR'] + cleaned['MAY'] + cleaned['JUN']\n",
    "cleaned = cleaned.astype(float)\n",
    "cleaned.dtypes\n",
    "boxplot = cleaned.boxplot(column=['spring1','spring2'])\n"
   ]
  },
  {
   "cell_type": "markdown",
   "metadata": {},
   "source": [
    "**Part D:** These might look pretty similar!  Highlight and comment on any differences by calculating the mean, standard deviation, and a Tukey five number summary of each classification of Spring.  Is there a reason here to favor one grouping over the other?"
   ]
  },
  {
   "cell_type": "code",
   "execution_count": 11,
   "metadata": {},
   "outputs": [
    {
     "name": "stdout",
     "output_type": "stream",
     "text": [
      "2.71565576435025\n",
      "2.9154718101818027\n",
      "count    121.000000\n",
      "mean       7.525868\n",
      "std        2.726948\n",
      "min        2.210000\n",
      "25%        5.600000\n",
      "50%        7.110000\n",
      "75%        9.170000\n",
      "max       16.750000\n",
      "Name: spring1, dtype: float64\n",
      "count    121.000000\n",
      "mean       7.680992\n",
      "std        2.927594\n",
      "min        3.120000\n",
      "25%        5.230000\n",
      "50%        7.380000\n",
      "75%        9.470000\n",
      "max       19.070000\n",
      "Name: spring2, dtype: float64\n"
     ]
    }
   ],
   "source": [
    "# spring1Mean = cleaned['spring1'].sum()/len(cleaned['spring1'])\n",
    "# spring2Mean = cleaned['spring2'].sum()/len(cleaned['spring2'])\n",
    "# spring1STD = cleaned[\"spring1\"].std(ddof=0)\n",
    "# spring2STD = cleaned[\"spring2\"].std(ddof=0)\n",
    "print(cleaned[\"spring1\"].std(ddof=0))\n",
    "print(cleaned[\"spring2\"].std(ddof=0))\n",
    "print(cleaned['spring1'].describe())\n",
    "print(cleaned['spring2'].describe())\n",
    "#i am pretty sure we wanted to use ddof =0 instead of 1 for this class so just ignore the mean in the describe\n"
   ]
  },
  {
   "cell_type": "markdown",
   "metadata": {},
   "source": [
    "for spring1 which was MAR-APR there seems to be less rainfall which to me is the most distiguishable part of spring so the version of april-June seems more fitting. If there is a more proper way to measure which months should be which I do not know it I am simply going off of \"spring showers bring may flowers\" which seems more proper for spring2"
   ]
  },
  {
   "cell_type": "markdown",
   "metadata": {},
   "source": [
    "**Part E:** Create a density histogram of the September precipitation.  Classify and describe this histogram, including discussion of any skewness, multimodality, or outliers.  Find the data point associated with September, 2013, and recreate your histogram with that value in a different color or otherwise clearly marked."
   ]
  },
  {
   "cell_type": "code",
   "execution_count": 40,
   "metadata": {},
   "outputs": [
    {
     "data": {
      "text/plain": [
       "113    18.16\n",
       "Name: SEP, dtype: float64"
      ]
     },
     "execution_count": 40,
     "metadata": {},
     "output_type": "execute_result"
    },
    {
     "data": {
      "image/png": "[encoded data removed]",
      "text/plain": [
       "<Figure size 432x288 with 1 Axes>"
      ]
     },
     "metadata": {
      "needs_background": "light"
     },
     "output_type": "display_data"
    }
   ],
   "source": [
    "Twentythirteen = cleaned.loc[(cleaned['Year']==2013)]\n",
    "TwentythirteenSep = Twentythirteen['SEP']\n",
    "cleaned['SEP'].plot.hist()\n",
    "TwentythirteenSep.plot.hist()\n",
    "TwentythirteenSep.head()\n",
    "# tiny orange tag shows 2013 sep even if i remove 2013 from cleaned and put into new data fram still just a small spec so I\n",
    "# left it this way."
   ]
  },
  {
   "cell_type": "markdown",
   "metadata": {},
   "source": [
    "the graph is scewed left because of the 2013 outlier, because 2013 is a outlier I would say this data is not multimoddality because the outlier out of this fairly large data set is alone and way out there so shoudl not be considered."
   ]
  },
  {
   "cell_type": "markdown",
   "metadata": {},
   "source": [
    "**Part F:** That one data point in September 2013 is pretty out there!  Compute the mean and standard deviation of the September precipitation values, then compute them again while excluding the 2013 observation.  How much did each change?\n",
    "\n",
    "If someone were to ask you about the average weather in September, what would you respond?\n",
    "\n"
   ]
  },
  {
   "cell_type": "code",
   "execution_count": 46,
   "metadata": {},
   "outputs": [
    {
     "name": "stdout",
     "output_type": "stream",
     "text": [
      "mean with outlier  1.6884297520661158\n",
      "mean without outlier  1.5511666666666666\n",
      "std with outlier  1.9669593130718548\n",
      "std without outlier  2.9274890157778564\n"
     ]
    }
   ],
   "source": [
    "WO2013 = cleaned.loc[(cleaned['Year']!=2013)]\n",
    "print(\"mean with outlier \" , cleaned['SEP'].sum()/len(cleaned['SEP']))\n",
    "print(\"mean without outlier \" ,WO2013['SEP'].sum()/len(WO2013['spring2']))\n",
    "print(\"std with outlier \" , cleaned['SEP'].std(ddof=0))\n",
    "print(\"std without outlier \" ,WO2013[\"spring2\"].std(ddof=0))"
   ]
  },
  {
   "cell_type": "markdown",
   "metadata": {},
   "source": [
    "the std raised be almost 1 where the mean slightly decreased probably due to the size of the data set. if someone asked me about the weather in september I would say it is fairly dry and not to get their hopes up for much rain."
   ]
  },
  {
   "cell_type": "markdown",
   "metadata": {},
   "source": [
    "[Back to top](#top)"
   ]
  }
 ],
 "metadata": {
  "kernelspec": {
   "display_name": "Python 3",
   "language": "python",
   "name": "python3"
  },
  "language_info": {
   "codemirror_mode": {
    "name": "ipython",
    "version": 3
   },
   "file_extension": ".py",
   "mimetype": "text/x-python",
   "name": "python",
   "nbconvert_exporter": "python",
   "pygments_lexer": "ipython3",
   "version": "3.8.3"
  }
 },
 "nbformat": 4,
 "nbformat_minor": 2
}
